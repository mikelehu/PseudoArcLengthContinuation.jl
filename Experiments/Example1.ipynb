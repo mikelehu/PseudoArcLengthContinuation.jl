{
 "cells": [
  {
   "cell_type": "markdown",
   "id": "393a2efd",
   "metadata": {},
   "source": [
    "# PseudoArcLengthContinuation"
   ]
  },
  {
   "cell_type": "markdown",
   "id": "de72ee62",
   "metadata": {},
   "source": [
    "## Loading packages and functions"
   ]
  },
  {
   "cell_type": "code",
   "execution_count": 1,
   "id": "8bf09df1",
   "metadata": {},
   "outputs": [
    {
     "ename": "LoadError",
     "evalue": "ArgumentError: Package NLsolve not found in current path.\n- Run `import Pkg; Pkg.add(\"NLsolve\")` to install the NLsolve package.",
     "output_type": "error",
     "traceback": [
      "ArgumentError: Package NLsolve not found in current path.\n- Run `import Pkg; Pkg.add(\"NLsolve\")` to install the NLsolve package.",
      "",
      "Stacktrace:",
      " [1] macro expansion",
      "   @ ./loading.jl:1163 [inlined]",
      " [2] macro expansion",
      "   @ ./lock.jl:223 [inlined]",
      " [3] require(into::Module, mod::Symbol)",
      "   @ Base ./loading.jl:1144"
     ]
    }
   ],
   "source": [
    "using LinearAlgebra\n",
    "using Plots\n",
    "using NLsolve"
   ]
  },
  {
   "cell_type": "code",
   "execution_count": 2,
   "id": "1dd70381",
   "metadata": {},
   "outputs": [
    {
     "data": {
      "text/plain": [
       "PseudoArcLength (generic function with 6 methods)"
      ]
     },
     "execution_count": 2,
     "metadata": {},
     "output_type": "execute_result"
    }
   ],
   "source": [
    "include(\"../src/PseudoArcLengthContinuation.jl\")"
   ]
  },
  {
   "cell_type": "markdown",
   "id": "d5717164",
   "metadata": {},
   "source": [
    "## Problem"
   ]
  },
  {
   "cell_type": "markdown",
   "id": "5f0f6e3b",
   "metadata": {},
   "source": [
    "### F function"
   ]
  },
  {
   "cell_type": "code",
   "execution_count": 3,
   "id": "fa16843c",
   "metadata": {},
   "outputs": [
    {
     "data": {
      "text/plain": [
       "F_Example1! (generic function with 1 method)"
      ]
     },
     "execution_count": 3,
     "metadata": {},
     "output_type": "execute_result"
    }
   ],
   "source": [
    "function F_Example1!(F,u,p)\n",
    "\n",
    "   x=u[1]\n",
    "   y=u[2]\n",
    "   z=u[3]\n",
    "   F[1]=x^2+y^2+z^2-6          #F[1]=x^2+y^2+z^2-4\n",
    "   F[2]=x+y-z\n",
    "   F[3]=(x-1)^2-1\n",
    "    \n",
    "   return nothing \n",
    "end"
   ]
  },
  {
   "cell_type": "code",
   "execution_count": 4,
   "id": "d6a0df60",
   "metadata": {},
   "outputs": [
    {
     "data": {
      "text/plain": [
       "J_Example1! (generic function with 1 method)"
      ]
     },
     "execution_count": 4,
     "metadata": {},
     "output_type": "execute_result"
    }
   ],
   "source": [
    "function J_Example1!(J,u,p)\n",
    "\n",
    "   x=u[1]\n",
    "   y=u[2]\n",
    "   z=u[3]\n",
    "   J[1,1]=2*x\n",
    "   J[1,2]=2*y\n",
    "   J[1,3]=2*x\n",
    "   J[2,1]=1\n",
    "   J[2,2]=1\n",
    "   J[2,3]=-1\n",
    "   J[3,1]=(x-1)\n",
    "   J[3,2]=0\n",
    "   J[3,3]=0 \n",
    "    \n",
    "   return nothing \n",
    "end"
   ]
  },
  {
   "cell_type": "code",
   "execution_count": 5,
   "id": "bc343ba7",
   "metadata": {},
   "outputs": [],
   "source": [
    "#sol = nlsolve(F_Example1!,J_Example1!, [2., -1.,  1.])\n",
    "#sol.zero"
   ]
  },
  {
   "cell_type": "markdown",
   "id": "62955c05",
   "metadata": {},
   "source": [
    "### F* function"
   ]
  },
  {
   "cell_type": "code",
   "execution_count": 6,
   "id": "65f54d2b",
   "metadata": {},
   "outputs": [
    {
     "data": {
      "text/plain": [
       "\"u=rand(3)\\np=nothing\\nuj=rand(3)\\nβj=rand(3)\\nΔj=1.\\nF=zeros(6)\\nF2_Example1!(F,u,βj,uj,Δj)\\n\""
      ]
     },
     "execution_count": 6,
     "metadata": {},
     "output_type": "execute_result"
    }
   ],
   "source": [
    "function F2_Example1!(F,u,p,βj,uj,Δtj)\n",
    "\n",
    "   x=u[1]\n",
    "   y=u[2]\n",
    "   z=u[3]\n",
    "\n",
    "   xj=uj[1]\n",
    "   yj=uj[2]\n",
    "   zj=uj[3]\n",
    "\n",
    "   F_Example1!(F,u,p)\n",
    "   \n",
    "   # βj*(x-xj)-Δtj \n",
    "   F[3]=βj[1]*(x-xj)+βj[2]*(y-yj)+βj[3]*(z-zj)-Δtj\n",
    "    \n",
    "   return nothing \n",
    "end\n",
    "\n",
    "\"\"\"\n",
    "u=rand(3)\n",
    "p=nothing\n",
    "uj=rand(3)\n",
    "βj=rand(3)\n",
    "Δj=1.\n",
    "F=zeros(6)\n",
    "F2_Example1!(F,u,βj,uj,Δj)\n",
    "\"\"\""
   ]
  },
  {
   "cell_type": "code",
   "execution_count": 6,
   "id": "1c8091e9",
   "metadata": {},
   "outputs": [
    {
     "data": {
      "text/plain": [
       "\"u=rand(3)\\np=nothing\\nuj=rand(3)\\nβj=rand(3)\\nΔj=1.\\nJ=zeros(6,3)\\nJ2_Example1!(J,u,βj,uj,Δj)\\n\\n\""
      ]
     },
     "execution_count": 6,
     "metadata": {},
     "output_type": "execute_result"
    }
   ],
   "source": [
    "function J2_Example1!(J,u,p,βj,uj,Δtj)\n",
    "\n",
    "   x=u[1]\n",
    "   y=u[2]\n",
    "   z=u[3]\n",
    "\n",
    "   J_Example1!(J,u,p)\n",
    "    \n",
    "   J[3,1]=βj[1]\n",
    "   J[3,2]=βj[2]\n",
    "   J[3,3]=βj[3]\n",
    "    \n",
    "   return nothing \n",
    "end\n",
    "\n",
    "\"\"\"\n",
    "u=rand(3)\n",
    "p=nothing\n",
    "uj=rand(3)\n",
    "βj=rand(3)\n",
    "Δj=1.\n",
    "J=zeros(6,3)\n",
    "J2_Example1!(J,u,βj,uj,Δj)\n",
    "\n",
    "\"\"\""
   ]
  },
  {
   "cell_type": "markdown",
   "id": "e325ee81",
   "metadata": {},
   "source": [
    "## Calling to PseudoArcLengthContinuation\n"
   ]
  },
  {
   "cell_type": "markdown",
   "id": "4cc7d0f2",
   "metadata": {},
   "source": [
    "### Initial value"
   ]
  },
  {
   "cell_type": "code",
   "execution_count": 7,
   "id": "e45456ad",
   "metadata": {},
   "outputs": [
    {
     "data": {
      "text/plain": [
       "f_Example1! (generic function with 1 method)"
      ]
     },
     "execution_count": 7,
     "metadata": {},
     "output_type": "execute_result"
    }
   ],
   "source": [
    "function f_Example1!(F,u,p)\n",
    "\n",
    "   x=u[1]\n",
    "   y=u[2]\n",
    "   z=u[3]\n",
    "   F[1]=x^2+y^2+z^2-6\n",
    "   F[2]=x+y-z\n",
    "    \n",
    "   return nothing \n",
    "end"
   ]
  },
  {
   "cell_type": "code",
   "execution_count": 8,
   "id": "79ad6585",
   "metadata": {},
   "outputs": [
    {
     "data": {
      "text/plain": [
       "2-element Vector{Float64}:\n",
       " 0.0\n",
       " 0.0"
      ]
     },
     "execution_count": 8,
     "metadata": {},
     "output_type": "execute_result"
    }
   ],
   "source": [
    "f=[0., 0.]\n",
    "x0=[1.,1.,2.]  # kurban dago\n",
    "p=nothing\n",
    "#x0=[1.5,1.,2.] # Ez dago kurban\n",
    "f_Example1!(f,x0,p)\n",
    "f"
   ]
  },
  {
   "cell_type": "code",
   "execution_count": 9,
   "id": "6ad4925e",
   "metadata": {},
   "outputs": [
    {
     "data": {
      "text/plain": [
       "0.1"
      ]
     },
     "execution_count": 9,
     "metadata": {},
     "output_type": "execute_result"
    }
   ],
   "source": [
    "Beta0=zero(x0)\n",
    "# Beta0[end]=1  singular\n",
    "Beta0[1]=1\n",
    "p=nothing\n",
    "dt=0.1"
   ]
  },
  {
   "cell_type": "code",
   "execution_count": 11,
   "id": "e6ef72e7",
   "metadata": {},
   "outputs": [],
   "source": [
    "#sol=PseudoArcLength(F2_Example1!, J2_Example1!, x0, β0, p)\n",
    "#@show (sol.t, sol.x);"
   ]
  },
  {
   "cell_type": "code",
   "execution_count": 12,
   "id": "080d594c",
   "metadata": {},
   "outputs": [],
   "source": [
    "#f_Example1!(f,sol.x)\n",
    "#f"
   ]
  },
  {
   "cell_type": "markdown",
   "id": "b04f0d90-b6f7-4972-9d27-7483c92217f6",
   "metadata": {},
   "source": [
    "### Step by step"
   ]
  },
  {
   "cell_type": "markdown",
   "id": "2deeb0eb-39ff-4974-a535-e14c4468ad9e",
   "metadata": {},
   "source": [
    "#### Calcular Beta0"
   ]
  },
  {
   "cell_type": "code",
   "execution_count": 11,
   "id": "cf49ef59-e42f-4005-8601-050e6a48b303",
   "metadata": {},
   "outputs": [
    {
     "name": "stdout",
     "output_type": "stream",
     "text": [
      "dot(Beta0, Betaj) = 1.0\n"
     ]
    }
   ],
   "source": [
    "N=length(x0)\n",
    "J2=zeros(N,N)\n",
    "\n",
    "Betaj=copy(Beta0)\n",
    "xj=copy(x0)\n",
    "\n",
    "J2_Example1!(J2,x0,p,Beta0,x0,0.)\n",
    "# compute beta\n",
    "b=zero(x0)\n",
    "b[end]=1\n",
    "Betaj=J2\\b\n",
    "@show dot(Beta0,Betaj)\n",
    "Betaj=Betaj/norm(Betaj);"
   ]
  },
  {
   "cell_type": "code",
   "execution_count": 13,
   "id": "cef678ca-8f4f-446f-b7b5-784baab981bf",
   "metadata": {},
   "outputs": [
    {
     "data": {
      "text/plain": [
       "(0.7071067811865475, 0.9999999999999998)"
      ]
     },
     "execution_count": 13,
     "metadata": {},
     "output_type": "execute_result"
    }
   ],
   "source": [
    "(dot(Beta0,Betaj), dot(Betaj,Betaj))"
   ]
  },
  {
   "cell_type": "code",
   "execution_count": 17,
   "id": "2e650514",
   "metadata": {},
   "outputs": [],
   "source": [
    "N=length(x0)\n",
    "F2=similar(x0)\n",
    "J2=rand(N,N)\n",
    "\n",
    "Betaj=copy(Beta0)\n",
    "xj=copy(x0)\n",
    "maxiters=100\n",
    "\n",
    "dt=zero(eltype(x0))\n",
    "F2_Example1!(F2,x0,p, Beta0,x0,dt)\n",
    "if norm(F2)>0 \n",
    "      Dx=zero(x0)\n",
    "      Dx[1]=100\n",
    "      iters=0\n",
    "      while (norm(Dx)>1e-14 && iters<maxiters)\n",
    "            println(\"iter=\", iters)\n",
    "            iters=iters+1 \n",
    "            J2_Example1!(J2,xj,p,Betaj,x0,dt)\n",
    "            lu_fact=lu(J2)\n",
    "            F2_Example1!(F2,xj,p,Beta0,x0,dt)\n",
    "            b=-F2\n",
    "            Dx=lu_fact\\b\n",
    "            xj=xj+Dx\n",
    "      end\n",
    "      println(iters, \"xj=\", xj)\n",
    "end"
   ]
  },
  {
   "cell_type": "code",
   "execution_count": 20,
   "id": "68ab366a",
   "metadata": {},
   "outputs": [
    {
     "data": {
      "text/plain": [
       "2-element Vector{Float64}:\n",
       " 0.0\n",
       " 0.0"
      ]
     },
     "execution_count": 20,
     "metadata": {},
     "output_type": "execute_result"
    }
   ],
   "source": [
    "f_Example1!(f,xj,p)\n",
    "f"
   ]
  },
  {
   "cell_type": "code",
   "execution_count": null,
   "id": "a3dfb0b4",
   "metadata": {},
   "outputs": [],
   "source": []
  }
 ],
 "metadata": {
  "kernelspec": {
   "display_name": "Julia 1.8.5",
   "language": "julia",
   "name": "julia-1.8"
  },
  "language_info": {
   "file_extension": ".jl",
   "mimetype": "application/julia",
   "name": "julia",
   "version": "1.8.5"
  }
 },
 "nbformat": 4,
 "nbformat_minor": 5
}
